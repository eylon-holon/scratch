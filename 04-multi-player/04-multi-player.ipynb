{
 "cells": [
  {
   "cell_type": "code",
   "execution_count": 1,
   "metadata": {},
   "outputs": [
    {
     "name": "stdout",
     "output_type": "stream",
     "text": [
      "Hi ofir-lifshits 😁! Let's start the lesson... 🙌\n"
     ]
    }
   ],
   "source": [
    "import os\n",
    "while not os.getcwd().endswith(\"scratch-a\"): os.chdir(\"..\")\n",
    "from eylon.core import *\n",
    "\n",
    "def multi_player_here(): pass\n",
    "def all_done(): pass\n",
    "\n",
    "start({\n",
    "    \"multi_player_here()\": [],\n",
    "    \"all_done()\": [],\n",
    "})"
   ]
  },
  {
   "cell_type": "code",
   "execution_count": 3,
   "metadata": {},
   "outputs": [
    {
     "name": "stdout",
     "output_type": "stream",
     "text": [
      "Congrats ofir-lifshits! Got it: '04-multi-player.multi_player_here'. Gosha is happy :) 👍\n"
     ]
    }
   ],
   "source": [
    "submit(multi_player_here)"
   ]
  },
  {
   "cell_type": "code",
   "execution_count": 2,
   "metadata": {},
   "outputs": [
    {
     "name": "stdout",
     "output_type": "stream",
     "text": [
      "\n",
      "[ofir-lifshits d85e39a] auto commit...\n",
      " 3 files changed, 8 insertions(+), 17 deletions(-)\n",
      " create mode 100644 04-multi-player/ofir.sprite3\n",
      "\n"
     ]
    },
    {
     "name": "stderr",
     "output_type": "stream",
     "text": [
      "To https://github.com/eylon-holon/scratch-a\n",
      "   b7b3428..d85e39a  ofir-lifshits -> ofir-lifshits\n"
     ]
    },
    {
     "name": "stdout",
     "output_type": "stream",
     "text": [
      "\n",
      "Congrats ofir-lifshits! Got it: '04-multi-player.all_done'. Gosha is happy :) 👍\n"
     ]
    }
   ],
   "source": [
    "store_all_changes_to_github()\n",
    "submit(all_done)"
   ]
  }
 ],
 "metadata": {
  "kernelspec": {
   "display_name": "Python 3",
   "language": "python",
   "name": "python3"
  },
  "language_info": {
   "codemirror_mode": {
    "name": "ipython",
    "version": 3
   },
   "file_extension": ".py",
   "mimetype": "text/x-python",
   "name": "python",
   "nbconvert_exporter": "python",
   "pygments_lexer": "ipython3",
   "version": "3.12.1"
  }
 },
 "nbformat": 4,
 "nbformat_minor": 2
}
