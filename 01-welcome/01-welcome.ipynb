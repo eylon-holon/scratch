{
 "cells": [
  {
   "cell_type": "markdown",
   "metadata": {},
   "source": [
    "תתחילו עבודה בלהריץ את המשבצת הבא"
   ]
  },
  {
   "cell_type": "code",
   "execution_count": null,
   "metadata": {},
   "outputs": [],
   "source": [
    "from eylon.core import *\n",
    "start({\n",
    "    \"hello()\": [\n",
    "        [[], [], ['Gosha'], ['Hi Gosha']]\n",
    "    ],\n",
    "    \"min()\": [\n",
    "        [[10, 20], [10], [], []],\n",
    "        [[20, 10], [10], [], []],\n",
    "        [[-10, -20], [-20], [], []],\n",
    "    ],\n",
    "    \"max()\": [\n",
    "        [[10, 20], [20], [], []],\n",
    "        [[20, 10], [20], [], []],\n",
    "        [[-10, -20], [-10], [], []],\n",
    "    ],\n",
    "})"
   ]
  },
  {
   "cell_type": "markdown",
   "metadata": {},
   "source": [
    "עכשיו מימשו את הפונקציה\n",
    "אחרי כל שינוי בהגדרה של הפונקציה צריך להריץ את המשבצת\n",
    "זה מין כפתור שמור"
   ]
  },
  {
   "cell_type": "code",
   "execution_count": null,
   "metadata": {},
   "outputs": [],
   "source": [
    "def hello():"
   ]
  },
  {
   "cell_type": "markdown",
   "metadata": {},
   "source": [
    "תריצו את הפונקציה\n",
    "hello()"
   ]
  },
  {
   "cell_type": "markdown",
   "metadata": {},
   "source": [
    "סיימו את העבודה בהגשה של הפונקציה"
   ]
  },
  {
   "cell_type": "code",
   "execution_count": null,
   "metadata": {},
   "outputs": [],
   "source": [
    "hello()"
   ]
  },
  {
   "cell_type": "markdown",
   "metadata": {},
   "source": [
    "עכשיו הגישו את העבודה לבדיקה"
   ]
  },
  {
   "cell_type": "code",
   "execution_count": null,
   "metadata": {},
   "outputs": [],
   "source": [
    "submit(hello)"
   ]
  },
  {
   "cell_type": "markdown",
   "metadata": {},
   "source": [
    "ממשו פונקציה\n",
    "min of two variables"
   ]
  },
  {
   "cell_type": "code",
   "execution_count": null,
   "metadata": {},
   "outputs": [],
   "source": [
    "def min(a, b):\n"
   ]
  },
  {
   "cell_type": "markdown",
   "metadata": {},
   "source": [
    "בידקו את הפונקציה"
   ]
  },
  {
   "cell_type": "code",
   "execution_count": null,
   "metadata": {},
   "outputs": [],
   "source": [
    "print(min(10, 20))\n",
    "print(min(20, 10))\n",
    "print(min(-10, 20))\n",
    "print(min(10, -20))"
   ]
  },
  {
   "cell_type": "markdown",
   "metadata": {},
   "source": [
    "הגישו את הפונקציה"
   ]
  },
  {
   "cell_type": "code",
   "execution_count": null,
   "metadata": {},
   "outputs": [],
   "source": [
    "submit(min)"
   ]
  },
  {
   "cell_type": "markdown",
   "metadata": {},
   "source": [
    "עכשיו תממשו תבדקו והגישו פונקציה\n",
    "max of two variables"
   ]
  }
 ],
 "metadata": {
  "kernelspec": {
   "display_name": "Python 3",
   "language": "python",
   "name": "python3"
  },
  "language_info": {
   "codemirror_mode": {
    "name": "ipython",
    "version": 3
   },
   "file_extension": ".py",
   "mimetype": "text/x-python",
   "name": "python",
   "nbconvert_exporter": "python",
   "pygments_lexer": "ipython3",
   "version": "3.12.1"
  }
 },
 "nbformat": 4,
 "nbformat_minor": 2
}
