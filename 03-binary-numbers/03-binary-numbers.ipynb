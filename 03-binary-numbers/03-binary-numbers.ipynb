{
 "cells": [
  {
   "cell_type": "code",
   "execution_count": 1,
   "metadata": {},
   "outputs": [
    {
     "name": "stdout",
     "output_type": "stream",
     "text": [
      "Hi or-itzhak 😁! Let's start the lesson... 🙌\n"
     ]
    }
   ],
   "source": [
    "import os\n",
    "while not os.getcwd().endswith(\"scratch-a\"): os.chdir(\"..\")\n",
    "from eylon.core import *\n",
    "\n",
    "def dec2bin_got_it(): pass\n",
    "def dec2bin_coded_it(): pass\n",
    "def dec2bin_tested_it(): pass\n",
    "def dec2bin_done(): pass\n",
    "def bin2dec_got_it(): pass\n",
    "def bin2dec_coded_it(): pass\n",
    "def bin2dec_tested_it(): pass\n",
    "def all_done(): pass\n",
    "\n",
    "start({\n",
    "    \"dec2bin_got_it()\": [],\n",
    "    \"dec2bin_coded_it()\": [],\n",
    "    \"dec2bin_tested_it()\": [],\n",
    "    \"dec2bin_done()\": [],\n",
    "    \"bin2dec_got_it()\": [],\n",
    "    \"bin2dec_coded_it()\": [],\n",
    "    \"bin2dec_tested_it()\": [],\n",
    "    \"all_done()\": [],\n",
    "})"
   ]
  },
  {
   "cell_type": "code",
   "execution_count": null,
   "metadata": {},
   "outputs": [],
   "source": [
    "submit(dec2bin_got_it)"
   ]
  },
  {
   "cell_type": "code",
   "execution_count": null,
   "metadata": {},
   "outputs": [],
   "source": [
    "submit(dec2bin_coded_it)"
   ]
  },
  {
   "cell_type": "code",
   "execution_count": null,
   "metadata": {},
   "outputs": [],
   "source": [
    "submit(dec2bin_tested_it)"
   ]
  },
  {
   "cell_type": "code",
   "execution_count": null,
   "metadata": {},
   "outputs": [],
   "source": [
    "submit(dec2bin_done)"
   ]
  },
  {
   "cell_type": "code",
   "execution_count": null,
   "metadata": {},
   "outputs": [],
   "source": [
    "submit(bin2dec_got_it)"
   ]
  },
  {
   "cell_type": "code",
   "execution_count": null,
   "metadata": {},
   "outputs": [],
   "source": [
    "submit(bin2dec_tested_it)"
   ]
  },
  {
   "cell_type": "code",
   "execution_count": null,
   "metadata": {},
   "outputs": [],
   "source": [
    "submit(bin2dec_coded_it)"
   ]
  },
  {
   "cell_type": "code",
   "execution_count": 2,
   "metadata": {},
   "outputs": [
    {
     "name": "stdout",
     "output_type": "stream",
     "text": [
      "\n",
      "[or-itzhak 7c20dfe] auto commit...\n",
      " 3 files changed, 68 insertions(+), 5 deletions(-)\n",
      " rename Untitled.sb3 => 03-binary-numbers/Untitled.sb3 (100%)\n",
      "\n"
     ]
    },
    {
     "name": "stderr",
     "output_type": "stream",
     "text": [
      "To https://github.com/eylon-holon/scratch-a\n",
      "   e67e9b5..7c20dfe  or-itzhak -> or-itzhak\n"
     ]
    },
    {
     "name": "stdout",
     "output_type": "stream",
     "text": [
      "\n",
      "Congrats or-itzhak! Got it: '03-binary-numbers.all_done'. Gosha is happy :) 👍\n"
     ]
    }
   ],
   "source": [
    "store_all_changes_to_github()\n",
    "submit(all_done)"
   ]
  }
 ],
 "metadata": {
  "kernelspec": {
   "display_name": "Python 3",
   "language": "python",
   "name": "python3"
  },
  "language_info": {
   "codemirror_mode": {
    "name": "ipython",
    "version": 3
   },
   "file_extension": ".py",
   "mimetype": "text/x-python",
   "name": "python",
   "nbconvert_exporter": "python",
   "pygments_lexer": "ipython3",
   "version": "3.12.1"
  }
 },
 "nbformat": 4,
 "nbformat_minor": 2
}
