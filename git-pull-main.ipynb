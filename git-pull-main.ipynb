{
 "cells": [
  {
   "cell_type": "code",
   "execution_count": 1,
   "metadata": {},
   "outputs": [
    {
     "name": "stdout",
     "output_type": "stream",
     "text": [
      "\n",
      "[tom-zuckerstein 0492727] auto commit...\n",
      " 1 file changed, 30 insertions(+), 2 deletions(-)\n",
      "\n"
     ]
    },
    {
     "name": "stderr",
     "output_type": "stream",
     "text": [
      "To https://github.com/eylon-holon/scratch-a\n",
      "   9ae2e96..0492727  tom-zuckerstein -> tom-zuckerstein\n"
     ]
    },
    {
     "name": "stdout",
     "output_type": "stream",
     "text": [
      "\n"
     ]
    },
    {
     "name": "stderr",
     "output_type": "stream",
     "text": [
      "From https://github.com/eylon-holon/scratch-a\n",
      " * branch            main       -> FETCH_HEAD\n",
      "   3e39b09..8b3931d  main       -> origin/main\n"
     ]
    },
    {
     "name": "stdout",
     "output_type": "stream",
     "text": [
      "Merge made by the 'ort' strategy.\n",
      " 04-multi-player/04-multi-player.ipynb |  63 ++++++++++++++++++++++++++++++++++\n",
      " 04-multi-player/Bum-3.ALL.sb3         | Bin 0 -> 19416 bytes\n",
      " 04-multi-player/Bum-3.sb3             | Bin 0 -> 6136 bytes\n",
      " 05-fizz-buzz/05-fizz-buzz.ipynb       |  63 ++++++++++++++++++++++++++++++++++\n",
      " 05-fizz-buzz/Fizz Buzz.sb3            | Bin 0 -> 6286 bytes\n",
      " 5 files changed, 126 insertions(+)\n",
      " create mode 100644 04-multi-player/04-multi-player.ipynb\n",
      " create mode 100644 04-multi-player/Bum-3.ALL.sb3\n",
      " create mode 100644 04-multi-player/Bum-3.sb3\n",
      " create mode 100644 05-fizz-buzz/05-fizz-buzz.ipynb\n",
      " create mode 100644 05-fizz-buzz/Fizz Buzz.sb3\n",
      "\n"
     ]
    },
    {
     "name": "stderr",
     "output_type": "stream",
     "text": [
      "To https://github.com/eylon-holon/scratch-a\n",
      "   0492727..8bc2733  tom-zuckerstein -> tom-zuckerstein\n"
     ]
    }
   ],
   "source": [
    "from eylon.core import *\n",
    "store_all_changes_to_github()\n",
    "get_next_lesson()"
   ]
  }
 ],
 "metadata": {
  "kernelspec": {
   "display_name": "Python 3",
   "language": "python",
   "name": "python3"
  },
  "language_info": {
   "codemirror_mode": {
    "name": "ipython",
    "version": 3
   },
   "file_extension": ".py",
   "mimetype": "text/x-python",
   "name": "python",
   "nbconvert_exporter": "python",
   "pygments_lexer": "ipython3",
   "version": "3.12.1"
  }
 },
 "nbformat": 4,
 "nbformat_minor": 2
}
