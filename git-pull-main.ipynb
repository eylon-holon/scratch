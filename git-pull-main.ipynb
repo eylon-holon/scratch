{
 "cells": [
  {
   "cell_type": "code",
   "execution_count": 1,
   "metadata": {},
   "outputs": [
    {
     "name": "stdout",
     "output_type": "stream",
     "text": [
      "\n",
      "[ido-molayem f2dd476] auto commit...\n",
      " 2 files changed, 33 insertions(+), 17 deletions(-)\n",
      "\n"
     ]
    },
    {
     "name": "stderr",
     "output_type": "stream",
     "text": [
      "To https://github.com/eylon-holon/scratch-a\n",
      "   ba964d3..f2dd476  ido-molayem -> ido-molayem\n"
     ]
    },
    {
     "name": "stdout",
     "output_type": "stream",
     "text": [
      "\n"
     ]
    },
    {
     "name": "stderr",
     "output_type": "stream",
     "text": [
      "From https://github.com/eylon-holon/scratch-a\n",
      " * branch            main       -> FETCH_HEAD\n",
      "   4a454cf..c94a70d  main       -> origin/main\n"
     ]
    },
    {
     "name": "stdout",
     "output_type": "stream",
     "text": [
      "Merge made by the 'ort' strategy.\n",
      " 20-scratch-blocks/02-basic-math.dib |  113 +\n",
      " 20-scratch-blocks/basic-blocks.dib  |   99 +\n",
      " eylon/scratchblocks.min.js          | 6773 +++++++++++++++++++++++++++++++++++\n",
      " 3 files changed, 6985 insertions(+)\n",
      " create mode 100644 20-scratch-blocks/02-basic-math.dib\n",
      " create mode 100644 20-scratch-blocks/basic-blocks.dib\n",
      " create mode 100644 eylon/scratchblocks.min.js\n",
      "\n"
     ]
    },
    {
     "name": "stderr",
     "output_type": "stream",
     "text": [
      "To https://github.com/eylon-holon/scratch-a\n",
      "   f2dd476..9e44941  ido-molayem -> ido-molayem\n"
     ]
    }
   ],
   "source": [
    "from eylon.core import *\n",
    "store_all_changes_to_github()\n",
    "get_next_lesson()"
   ]
  }
 ],
 "metadata": {
  "kernelspec": {
   "display_name": "Python 3",
   "language": "python",
   "name": "python3"
  },
  "language_info": {
   "codemirror_mode": {
    "name": "ipython",
    "version": 3
   },
   "file_extension": ".py",
   "mimetype": "text/x-python",
   "name": "python",
   "nbconvert_exporter": "python",
   "pygments_lexer": "ipython3",
   "version": "3.12.1"
  }
 },
 "nbformat": 4,
 "nbformat_minor": 2
}
