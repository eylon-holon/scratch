{
 "cells": [
  {
   "cell_type": "code",
   "execution_count": 1,
   "metadata": {},
   "outputs": [
    {
     "name": "stdout",
     "output_type": "stream",
     "text": [
      "\n",
      "[adi-heller c37b605] auto commit...\n",
      " 1 file changed, 1 insertion(+), 1 deletion(-)\n",
      "\n"
     ]
    },
    {
     "name": "stderr",
     "output_type": "stream",
     "text": [
      "To https://github.com/eylon-holon/scratch-a\n",
      "   bbfa1fd..c37b605  adi-heller -> adi-heller\n"
     ]
    },
    {
     "name": "stdout",
     "output_type": "stream",
     "text": [
      "\n"
     ]
    },
    {
     "name": "stderr",
     "output_type": "stream",
     "text": [
      "From https://github.com/eylon-holon/scratch-a\n",
      " * branch            main       -> FETCH_HEAD\n",
      "   57a612b..4a454cf  main       -> origin/main\n"
     ]
    },
    {
     "name": "stdout",
     "output_type": "stream",
     "text": [
      "Merge made by the 'ort' strategy.\n",
      " 03-binary-numbers/03-binary-numbers.ipynb | 129 ++++++++++++++++++++++++++++++\n",
      " 04-multi-player/04-multi-player.ipynb     |  63 +++++++++++++++\n",
      " 04-multi-player/Bum-3.ALL.sb3             | Bin 0 -> 19416 bytes\n",
      " 04-multi-player/Bum-3.sb3                 | Bin 0 -> 6136 bytes\n",
      " 05-fizz-buzz/05-fizz-buzz.ipynb           |  63 +++++++++++++++\n",
      " 05-fizz-buzz/Fizz Buzz.sb3                | Bin 0 -> 6286 bytes\n",
      " eylon/config.py                           |   2 +-\n",
      " eylon/core.py                             |  17 +++-\n",
      " self-grade.ipynb                          |  36 +++++++++\n",
      " 9 files changed, 308 insertions(+), 2 deletions(-)\n",
      " create mode 100644 03-binary-numbers/03-binary-numbers.ipynb\n",
      " create mode 100644 04-multi-player/04-multi-player.ipynb\n",
      " create mode 100644 04-multi-player/Bum-3.ALL.sb3\n",
      " create mode 100644 04-multi-player/Bum-3.sb3\n",
      " create mode 100644 05-fizz-buzz/05-fizz-buzz.ipynb\n",
      " create mode 100644 05-fizz-buzz/Fizz Buzz.sb3\n",
      " create mode 100644 self-grade.ipynb\n",
      "\n"
     ]
    },
    {
     "name": "stderr",
     "output_type": "stream",
     "text": [
      "To https://github.com/eylon-holon/scratch-a\n",
      "   c37b605..2c04f03  adi-heller -> adi-heller\n"
     ]
    }
   ],
   "source": [
    "from eylon.core import *\n",
    "store_all_changes_to_github()\n",
    "get_next_lesson()"
   ]
  }
 ],
 "metadata": {
  "kernelspec": {
   "display_name": "Python 3",
   "language": "python",
   "name": "python3"
  },
  "language_info": {
   "codemirror_mode": {
    "name": "ipython",
    "version": 3
   },
   "file_extension": ".py",
   "mimetype": "text/x-python",
   "name": "python",
   "nbconvert_exporter": "python",
   "pygments_lexer": "ipython3",
   "version": "3.12.1"
  }
 },
 "nbformat": 4,
 "nbformat_minor": 2
}
