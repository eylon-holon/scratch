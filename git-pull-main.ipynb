{
 "cells": [
  {
   "cell_type": "code",
   "execution_count": 1,
   "metadata": {},
   "outputs": [
    {
     "name": "stdout",
     "output_type": "stream",
     "text": [
      "\n",
      "On branch maya-rosenzweig\n",
      "Your branch is up to date with 'origin/maya-rosenzweig'.\n",
      "\n",
      "nothing to commit, working tree clean\n",
      "\n"
     ]
    },
    {
     "name": "stderr",
     "output_type": "stream",
     "text": [
      "Everything up-to-date\n"
     ]
    },
    {
     "name": "stdout",
     "output_type": "stream",
     "text": [
      "\n"
     ]
    },
    {
     "name": "stderr",
     "output_type": "stream",
     "text": [
      "From https://github.com/eylon-holon/scratch-a\n",
      " * branch            main       -> FETCH_HEAD\n",
      "   57a612b..14130a0  main       -> origin/main\n"
     ]
    },
    {
     "name": "stdout",
     "output_type": "stream",
     "text": [
      "Merge made by the 'ort' strategy.\n",
      " 03-binary-numbers/03-binary-numbers.ipynb | 129 ++++++++++++++++++++++++++++++\n",
      " 04-multi-player/04-multi-player.ipynb     |  63 +++++++++++++++\n",
      " 04-multi-player/Multi-player game.sb3     | Bin 0 -> 5769 bytes\n",
      " 04-multi-player/Player.sprite3            | Bin 0 -> 4357 bytes\n",
      " 4 files changed, 192 insertions(+)\n",
      " create mode 100644 03-binary-numbers/03-binary-numbers.ipynb\n",
      " create mode 100644 04-multi-player/04-multi-player.ipynb\n",
      " create mode 100644 04-multi-player/Multi-player game.sb3\n",
      " create mode 100644 04-multi-player/Player.sprite3\n",
      "\n"
     ]
    },
    {
     "name": "stderr",
     "output_type": "stream",
     "text": [
      "To https://github.com/eylon-holon/scratch-a\n",
      "   36b94e4..e2398e4  maya-rosenzweig -> maya-rosenzweig\n"
     ]
    }
   ],
   "source": [
    "from eylon.core import *\n",
    "store_all_changes_to_github()\n",
    "get_next_lesson()"
   ]
  }
 ],
 "metadata": {
  "kernelspec": {
   "display_name": "Python 3",
   "language": "python",
   "name": "python3"
  },
  "language_info": {
   "codemirror_mode": {
    "name": "ipython",
    "version": 3
   },
   "file_extension": ".py",
   "mimetype": "text/x-python",
   "name": "python",
   "nbconvert_exporter": "python",
   "pygments_lexer": "ipython3",
   "version": "3.12.1"
  }
 },
 "nbformat": 4,
 "nbformat_minor": 2
}
