{
 "cells": [
  {
   "cell_type": "code",
   "execution_count": 1,
   "metadata": {},
   "outputs": [
    {
     "name": "stdout",
     "output_type": "stream",
     "text": [
      "\n",
      "[bar-cohen 0fd76d3] auto commit...\n",
      " 2 files changed, 31 insertions(+), 3 deletions(-)\n",
      "\n"
     ]
    },
    {
     "name": "stderr",
     "output_type": "stream",
     "text": [
      "To https://github.com/eylon-holon/scratch-a\n",
      "   c542876..0fd76d3  bar-cohen -> bar-cohen\n"
     ]
    },
    {
     "name": "stdout",
     "output_type": "stream",
     "text": [
      "\n"
     ]
    },
    {
     "name": "stderr",
     "output_type": "stream",
     "text": [
      "From https://github.com/eylon-holon/scratch-a\n",
      " * branch            main       -> FETCH_HEAD\n",
      "   3e39b09..14130a0  main       -> origin/main\n"
     ]
    },
    {
     "name": "stdout",
     "output_type": "stream",
     "text": [
      "Merge made by the 'ort' strategy.\n",
      " 04-multi-player/04-multi-player.ipynb |  63 ++++++++++++++++++++++++++++++++++\n",
      " 04-multi-player/Multi-player game.sb3 | Bin 0 -> 5769 bytes\n",
      " 04-multi-player/Player.sprite3        | Bin 0 -> 4357 bytes\n",
      " 3 files changed, 63 insertions(+)\n",
      " create mode 100644 04-multi-player/04-multi-player.ipynb\n",
      " create mode 100644 04-multi-player/Multi-player game.sb3\n",
      " create mode 100644 04-multi-player/Player.sprite3\n",
      "\n"
     ]
    },
    {
     "name": "stderr",
     "output_type": "stream",
     "text": [
      "To https://github.com/eylon-holon/scratch-a\n",
      "   0fd76d3..f4a165d  bar-cohen -> bar-cohen\n"
     ]
    }
   ],
   "source": [
    "from eylon.core import *\n",
    "store_all_changes_to_github()\n",
    "get_next_lesson()"
   ]
  }
 ],
 "metadata": {
  "kernelspec": {
   "display_name": "Python 3",
   "language": "python",
   "name": "python3"
  },
  "language_info": {
   "codemirror_mode": {
    "name": "ipython",
    "version": 3
   },
   "file_extension": ".py",
   "mimetype": "text/x-python",
   "name": "python",
   "nbconvert_exporter": "python",
   "pygments_lexer": "ipython3",
   "version": "3.12.1"
  }
 },
 "nbformat": 4,
 "nbformat_minor": 2
}
