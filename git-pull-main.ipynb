{
 "cells": [
  {
   "cell_type": "code",
   "execution_count": 1,
   "metadata": {},
   "outputs": [
    {
     "name": "stdout",
     "output_type": "stream",
     "text": [
      "\n",
      "[gosha-smeh ae36b1d] auto commit...\n",
      " 1 file changed, 6 insertions(+), 15 deletions(-)\n",
      "\n"
     ]
    },
    {
     "name": "stderr",
     "output_type": "stream",
     "text": [
      "To https://github.com/eylon-holon/scratch-a\n",
      "   0e1176e..ae36b1d  gosha-smeh -> gosha-smeh\n"
     ]
    },
    {
     "name": "stdout",
     "output_type": "stream",
     "text": [
      "\n"
     ]
    },
    {
     "name": "stderr",
     "output_type": "stream",
     "text": [
      "From https://github.com/eylon-holon/scratch-a\n",
      " * branch            main       -> FETCH_HEAD\n",
      "   14130a0..8b3931d  main       -> origin/main\n"
     ]
    },
    {
     "name": "stdout",
     "output_type": "stream",
     "text": [
      "Merge made by the 'ort' strategy.\n",
      " 04-multi-player/Bum-3.ALL.sb3         | Bin 0 -> 19416 bytes\n",
      " 04-multi-player/Bum-3.sb3             | Bin 0 -> 6136 bytes\n",
      " 04-multi-player/Multi-player game.sb3 | Bin 5769 -> 0 bytes\n",
      " 04-multi-player/Player.sprite3        | Bin 4357 -> 0 bytes\n",
      " 05-fizz-buzz/05-fizz-buzz.ipynb       |  63 ++++++++++++++++++++++++++++++++++\n",
      " 05-fizz-buzz/Fizz Buzz.sb3            | Bin 0 -> 6286 bytes\n",
      " 6 files changed, 63 insertions(+)\n",
      " create mode 100644 04-multi-player/Bum-3.ALL.sb3\n",
      " create mode 100644 04-multi-player/Bum-3.sb3\n",
      " delete mode 100644 04-multi-player/Multi-player game.sb3\n",
      " delete mode 100644 04-multi-player/Player.sprite3\n",
      " create mode 100644 05-fizz-buzz/05-fizz-buzz.ipynb\n",
      " create mode 100644 05-fizz-buzz/Fizz Buzz.sb3\n",
      "\n"
     ]
    },
    {
     "name": "stderr",
     "output_type": "stream",
     "text": [
      "To https://github.com/eylon-holon/scratch-a\n",
      "   ae36b1d..0a1666b  gosha-smeh -> gosha-smeh\n"
     ]
    }
   ],
   "source": [
    "from eylon.core import *\n",
    "store_all_changes_to_github()\n",
    "get_next_lesson()"
   ]
  }
 ],
 "metadata": {
  "kernelspec": {
   "display_name": "Python 3",
   "language": "python",
   "name": "python3"
  },
  "language_info": {
   "codemirror_mode": {
    "name": "ipython",
    "version": 3
   },
   "file_extension": ".py",
   "mimetype": "text/x-python",
   "name": "python",
   "nbconvert_exporter": "python",
   "pygments_lexer": "ipython3",
   "version": "3.12.1"
  }
 },
 "nbformat": 4,
 "nbformat_minor": 2
}
